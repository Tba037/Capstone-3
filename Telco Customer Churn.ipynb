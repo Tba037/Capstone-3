{
 "cells": [
  {
   "cell_type": "code",
   "execution_count": 1,
   "id": "c52f6c32",
   "metadata": {
    "ExecuteTime": {
     "end_time": "2023-03-13T07:47:00.916040Z",
     "start_time": "2023-03-13T07:46:58.334531Z"
    }
   },
   "outputs": [],
   "source": [
    "import pandas as pd\n",
    "import numpy as np\n",
    "import seaborn as sns\n",
    "from matplotlib import pyplot as plt\n",
    "from statsmodels import api as sm\n",
    "from sklearn.model_selection import train_test_split\n",
    "from sklearn.model_selection import cross_val_score\n",
    "from sklearn.model_selection import GridSearchCV\n",
    "from sklearn.metrics import classification_report\n",
    "from sklearn.metrics import recall_score\n",
    "from sklearn.linear_model import LogisticRegression\n",
    "from sklearn.neighbors import KNeighborsClassifier\n",
    "from sklearn.tree import DecisionTreeClassifier\n",
    "from sklearn.ensemble import VotingClassifier\n",
    "from sklearn.ensemble import StackingClassifier\n",
    "from sklearn.ensemble import RandomForestClassifier\n",
    "from sklearn.ensemble import AdaBoostClassifier\n",
    "from sklearn.ensemble import GradientBoostingClassifier\n",
    "from imblearn.over_sampling import RandomOverSampler\n",
    "from imblearn.under_sampling import RandomUnderSampler\n",
    "from sklearn.preprocessing import OneHotEncoder\n",
    "from sklearn.preprocessing import RobustScaler\n",
    "from sklearn.compose import ColumnTransformer\n",
    "from imblearn.pipeline import Pipeline"
   ]
  },
  {
   "cell_type": "markdown",
   "id": "3dbb508d",
   "metadata": {},
   "source": [
    "# Telco Customer Churn"
   ]
  },
  {
   "cell_type": "markdown",
   "id": "b992bf40",
   "metadata": {
    "ExecuteTime": {
     "end_time": "2023-03-05T09:18:51.766937Z",
     "start_time": "2023-03-05T09:18:51.746220Z"
    }
   },
   "source": [
    "## Context  \n",
    "Telco merupakan sebuah company yang bergerak di bidang Internet Service Provider. Pada dataset yang diberikan, terdapat data-data customer dari perusahaan tersebut. Data-data ini merepresentasikan sebuah customer profile yang memakai jasa apa saja dari perusahaan tersebut, yang pada akhirnya di kategorikan sebagai **Churn** atau **Not Churn**.\n",
    "\n",
    "**Churn** dan **Not Churn** disini merupakan sebuah situasi yang mengambarkan apakah seorang customer telah berhenti memakai jasa perusahaan tersebut, dengan **Churn** adalah kategori dimana customer itu berhenti, dan **Not Churn** adalah kategori dimana customer tersebut masih memakai jasa perusahaan tersebut.\n",
    "\n",
    "Target :  \n",
    "**Churn** : Berhenti memakai jasa perusahaan  \n",
    "**Not Churn** : Tidak berhenti memakai jasa perusahaan"
   ]
  },
  {
   "cell_type": "markdown",
   "id": "3c29e4a6",
   "metadata": {},
   "source": [
    "**Problem Statement :**\n",
    "\n",
    "Sebuah kesuksesan sebuah perusahaan, terutama pada perusahaan jasa, dapat dilihat dari berapa banyak orang yang memakai jasa perusahaan tersebut. Jika seorang customer memutuskan untuk  berhenti mamakai jasa perusahaan (**Churn**), maka hal ini akan berdampak negatif bagi perusahaan karena perusahaan akan kehilangan source of income. Akan tetapi, sesukses apapun perusahaan tersebut, kehilangan customer merupakan hal yang tidak bisa dihindari karena ada banyaknya faktor yang mempengaruhi seorang customer akan setia memakai jasa perusahaan atau tidak. Maka dari itu, selain dari perusahaan tetap harus improve jasa mereka agar customer nyaman dan bahagia menggunakan jasa perusahaan, perusahaan juga harus dapat memprediksi apakah seorang customer akan senantiasa memakai jasa perusahaan atau tidak, agar perusahaan tetap siap dalam menghadapi kondisi seperti itu.\n",
    "\n",
    "Kita sebagai Data Analyst diminta perusahaan ini untuk membuatkan sebuah model yang dapat memprediksi apakah seorang customer akan **Churn** atau tidak.\n",
    "\n",
    "**Goals :**\n",
    "\n",
    "Maka berdasarkan permasalahan tersebut, perusahaan ingin memiliki kemampuan untuk memprediksi apakah seorang customer akan **Churn** dari jasa perusahaan atau tidak, sehingga dapat meminimalisir kerugian yang ditimbulkan dari customer yang **Churn** tersebut.\n",
    "\n",
    "Selain dari model, kita juga dapat diharapkan untuk dapat mengetahui faktor-faktor apa saja yang paling mempengaruhi seorang customer akan **Churn** atau tidak.\n",
    "\n",
    "**Metric Evaluation :**\n",
    "\n",
    "Type 1 error : False Positive (kondisi dimana kita memprediksi ketagori positive, tetapi actualnya adalah negative)  \n",
    "Konsekuensi : Kita bisa mengalami kekurangan sumber daya karena banyaknya customer dari customer **Not Churn** False Positive tersebut dan potential new customer.\n",
    "\n",
    "Type 2 error : False Negative  (kondisi dimana kita memprediksi ketagori negative, tetapi actualnya adalah positive)  \n",
    "Konsekuensi : Kita akan mengalami kerugian karena kehilangan source of income yang sudah kita prediksikan dari customer False Negative tersebut.\n",
    "\n",
    "Berdasarkan konsekuensinya, maka sebisa mungkin yang akan kita lakukan adalah membuat model yang dapat mengurangi kerugian karena kehilangan source of income tersebut. Jadi kita ingin model kita dapat memprediksi kelas negative dengan tepat, agar nilai false negative menjadi seminimal mungkin. Dengan demikian metric utama yang akan kita gunakan adalah recall."
   ]
  },
  {
   "cell_type": "markdown",
   "id": "80c6c5b4",
   "metadata": {},
   "source": [
    "## Data Understanding and Cleaning\n",
    "\n",
    "Dataset source : https://drive.google.com/drive/folders/1_fR7R0srpZgnFnanbrmELgnK-xmzMAHp\n",
    "\n",
    "Pertama, mari kita lihat informasi umum dari dataset ini."
   ]
  },
  {
   "cell_type": "code",
   "execution_count": 2,
   "id": "9c9fac38",
   "metadata": {
    "ExecuteTime": {
     "end_time": "2023-03-13T07:47:00.959803Z",
     "start_time": "2023-03-13T07:47:00.916040Z"
    }
   },
   "outputs": [
    {
     "data": {
      "text/html": [
       "<div>\n",
       "<style scoped>\n",
       "    .dataframe tbody tr th:only-of-type {\n",
       "        vertical-align: middle;\n",
       "    }\n",
       "\n",
       "    .dataframe tbody tr th {\n",
       "        vertical-align: top;\n",
       "    }\n",
       "\n",
       "    .dataframe thead th {\n",
       "        text-align: right;\n",
       "    }\n",
       "</style>\n",
       "<table border=\"1\" class=\"dataframe\">\n",
       "  <thead>\n",
       "    <tr style=\"text-align: right;\">\n",
       "      <th></th>\n",
       "      <th>Dependents</th>\n",
       "      <th>tenure</th>\n",
       "      <th>OnlineSecurity</th>\n",
       "      <th>OnlineBackup</th>\n",
       "      <th>InternetService</th>\n",
       "      <th>DeviceProtection</th>\n",
       "      <th>TechSupport</th>\n",
       "      <th>Contract</th>\n",
       "      <th>PaperlessBilling</th>\n",
       "      <th>MonthlyCharges</th>\n",
       "      <th>Churn</th>\n",
       "    </tr>\n",
       "  </thead>\n",
       "  <tbody>\n",
       "    <tr>\n",
       "      <th>0</th>\n",
       "      <td>Yes</td>\n",
       "      <td>9</td>\n",
       "      <td>No</td>\n",
       "      <td>No</td>\n",
       "      <td>DSL</td>\n",
       "      <td>Yes</td>\n",
       "      <td>Yes</td>\n",
       "      <td>Month-to-month</td>\n",
       "      <td>Yes</td>\n",
       "      <td>72.90</td>\n",
       "      <td>Yes</td>\n",
       "    </tr>\n",
       "    <tr>\n",
       "      <th>1</th>\n",
       "      <td>No</td>\n",
       "      <td>14</td>\n",
       "      <td>No</td>\n",
       "      <td>Yes</td>\n",
       "      <td>Fiber optic</td>\n",
       "      <td>Yes</td>\n",
       "      <td>No</td>\n",
       "      <td>Month-to-month</td>\n",
       "      <td>Yes</td>\n",
       "      <td>82.65</td>\n",
       "      <td>No</td>\n",
       "    </tr>\n",
       "    <tr>\n",
       "      <th>2</th>\n",
       "      <td>No</td>\n",
       "      <td>64</td>\n",
       "      <td>Yes</td>\n",
       "      <td>No</td>\n",
       "      <td>DSL</td>\n",
       "      <td>Yes</td>\n",
       "      <td>Yes</td>\n",
       "      <td>Two year</td>\n",
       "      <td>No</td>\n",
       "      <td>47.85</td>\n",
       "      <td>Yes</td>\n",
       "    </tr>\n",
       "    <tr>\n",
       "      <th>3</th>\n",
       "      <td>No</td>\n",
       "      <td>72</td>\n",
       "      <td>Yes</td>\n",
       "      <td>Yes</td>\n",
       "      <td>DSL</td>\n",
       "      <td>Yes</td>\n",
       "      <td>Yes</td>\n",
       "      <td>Two year</td>\n",
       "      <td>No</td>\n",
       "      <td>69.65</td>\n",
       "      <td>No</td>\n",
       "    </tr>\n",
       "    <tr>\n",
       "      <th>4</th>\n",
       "      <td>No</td>\n",
       "      <td>3</td>\n",
       "      <td>No internet service</td>\n",
       "      <td>No internet service</td>\n",
       "      <td>No</td>\n",
       "      <td>No internet service</td>\n",
       "      <td>No internet service</td>\n",
       "      <td>Month-to-month</td>\n",
       "      <td>Yes</td>\n",
       "      <td>23.60</td>\n",
       "      <td>No</td>\n",
       "    </tr>\n",
       "  </tbody>\n",
       "</table>\n",
       "</div>"
      ],
      "text/plain": [
       "  Dependents  tenure       OnlineSecurity         OnlineBackup  \\\n",
       "0        Yes       9                   No                   No   \n",
       "1         No      14                   No                  Yes   \n",
       "2         No      64                  Yes                   No   \n",
       "3         No      72                  Yes                  Yes   \n",
       "4         No       3  No internet service  No internet service   \n",
       "\n",
       "  InternetService     DeviceProtection          TechSupport        Contract  \\\n",
       "0             DSL                  Yes                  Yes  Month-to-month   \n",
       "1     Fiber optic                  Yes                   No  Month-to-month   \n",
       "2             DSL                  Yes                  Yes        Two year   \n",
       "3             DSL                  Yes                  Yes        Two year   \n",
       "4              No  No internet service  No internet service  Month-to-month   \n",
       "\n",
       "  PaperlessBilling  MonthlyCharges Churn  \n",
       "0              Yes           72.90   Yes  \n",
       "1              Yes           82.65    No  \n",
       "2               No           47.85   Yes  \n",
       "3               No           69.65    No  \n",
       "4              Yes           23.60    No  "
      ]
     },
     "execution_count": 2,
     "metadata": {},
     "output_type": "execute_result"
    }
   ],
   "source": [
    "# Load Dataset\n",
    "df=pd.read_csv('data_telco_customer_churn.csv')\n",
    "df.head()"
   ]
  },
  {
   "cell_type": "code",
   "execution_count": 3,
   "id": "dec7a429",
   "metadata": {
    "ExecuteTime": {
     "end_time": "2023-03-13T07:47:01.078436Z",
     "start_time": "2023-03-13T07:47:00.961797Z"
    }
   },
   "outputs": [
    {
     "data": {
      "text/html": [
       "<div>\n",
       "<style scoped>\n",
       "    .dataframe tbody tr th:only-of-type {\n",
       "        vertical-align: middle;\n",
       "    }\n",
       "\n",
       "    .dataframe tbody tr th {\n",
       "        vertical-align: top;\n",
       "    }\n",
       "\n",
       "    .dataframe thead th {\n",
       "        text-align: right;\n",
       "    }\n",
       "</style>\n",
       "<table border=\"1\" class=\"dataframe\">\n",
       "  <thead>\n",
       "    <tr style=\"text-align: right;\">\n",
       "      <th></th>\n",
       "      <th>Column Name</th>\n",
       "      <th>Number of Unique</th>\n",
       "      <th>Unique Sample</th>\n",
       "    </tr>\n",
       "  </thead>\n",
       "  <tbody>\n",
       "    <tr>\n",
       "      <th>0</th>\n",
       "      <td>Dependents</td>\n",
       "      <td>2</td>\n",
       "      <td>[Yes, No]</td>\n",
       "    </tr>\n",
       "    <tr>\n",
       "      <th>1</th>\n",
       "      <td>tenure</td>\n",
       "      <td>73</td>\n",
       "      <td>[9, 14, 64, 72, 3, 40, 17, 11, 8, 47, 18, 5, 1...</td>\n",
       "    </tr>\n",
       "    <tr>\n",
       "      <th>2</th>\n",
       "      <td>OnlineSecurity</td>\n",
       "      <td>3</td>\n",
       "      <td>[No, Yes, No internet service]</td>\n",
       "    </tr>\n",
       "    <tr>\n",
       "      <th>3</th>\n",
       "      <td>OnlineBackup</td>\n",
       "      <td>3</td>\n",
       "      <td>[No, Yes, No internet service]</td>\n",
       "    </tr>\n",
       "    <tr>\n",
       "      <th>4</th>\n",
       "      <td>InternetService</td>\n",
       "      <td>3</td>\n",
       "      <td>[DSL, Fiber optic, No]</td>\n",
       "    </tr>\n",
       "    <tr>\n",
       "      <th>5</th>\n",
       "      <td>DeviceProtection</td>\n",
       "      <td>3</td>\n",
       "      <td>[Yes, No internet service, No]</td>\n",
       "    </tr>\n",
       "    <tr>\n",
       "      <th>6</th>\n",
       "      <td>TechSupport</td>\n",
       "      <td>3</td>\n",
       "      <td>[Yes, No, No internet service]</td>\n",
       "    </tr>\n",
       "    <tr>\n",
       "      <th>7</th>\n",
       "      <td>Contract</td>\n",
       "      <td>3</td>\n",
       "      <td>[Month-to-month, Two year, One year]</td>\n",
       "    </tr>\n",
       "    <tr>\n",
       "      <th>8</th>\n",
       "      <td>PaperlessBilling</td>\n",
       "      <td>2</td>\n",
       "      <td>[Yes, No]</td>\n",
       "    </tr>\n",
       "    <tr>\n",
       "      <th>9</th>\n",
       "      <td>MonthlyCharges</td>\n",
       "      <td>1422</td>\n",
       "      <td>[72.9, 82.65, 47.85, 69.65, 23.6, 74.55, 19.7,...</td>\n",
       "    </tr>\n",
       "    <tr>\n",
       "      <th>10</th>\n",
       "      <td>Churn</td>\n",
       "      <td>2</td>\n",
       "      <td>[Yes, No]</td>\n",
       "    </tr>\n",
       "  </tbody>\n",
       "</table>\n",
       "</div>"
      ],
      "text/plain": [
       "         Column Name  Number of Unique  \\\n",
       "0         Dependents                 2   \n",
       "1             tenure                73   \n",
       "2     OnlineSecurity                 3   \n",
       "3       OnlineBackup                 3   \n",
       "4    InternetService                 3   \n",
       "5   DeviceProtection                 3   \n",
       "6        TechSupport                 3   \n",
       "7           Contract                 3   \n",
       "8   PaperlessBilling                 2   \n",
       "9     MonthlyCharges              1422   \n",
       "10             Churn                 2   \n",
       "\n",
       "                                        Unique Sample  \n",
       "0                                           [Yes, No]  \n",
       "1   [9, 14, 64, 72, 3, 40, 17, 11, 8, 47, 18, 5, 1...  \n",
       "2                      [No, Yes, No internet service]  \n",
       "3                      [No, Yes, No internet service]  \n",
       "4                              [DSL, Fiber optic, No]  \n",
       "5                      [Yes, No internet service, No]  \n",
       "6                      [Yes, No, No internet service]  \n",
       "7                [Month-to-month, Two year, One year]  \n",
       "8                                           [Yes, No]  \n",
       "9   [72.9, 82.65, 47.85, 69.65, 23.6, 74.55, 19.7,...  \n",
       "10                                          [Yes, No]  "
      ]
     },
     "execution_count": 3,
     "metadata": {},
     "output_type": "execute_result"
    }
   ],
   "source": [
    "# Lihat Unique Value dan berapa jumlah Unique Value\n",
    "listItem = []\n",
    "\n",
    "for col in df.columns:\n",
    "    listItem.append([col,df[col].nunique(),df[col].unique()])\n",
    "\n",
    "table = pd.DataFrame(columns=['Column Name', 'Number of Unique', 'Unique Sample'],data=listItem)\n",
    "table"
   ]
  },
  {
   "cell_type": "code",
   "execution_count": 4,
   "id": "705fc59f",
   "metadata": {
    "ExecuteTime": {
     "end_time": "2023-03-13T07:47:01.181526Z",
     "start_time": "2023-03-13T07:47:01.081233Z"
    }
   },
   "outputs": [
    {
     "data": {
      "text/html": [
       "<div>\n",
       "<style scoped>\n",
       "    .dataframe tbody tr th:only-of-type {\n",
       "        vertical-align: middle;\n",
       "    }\n",
       "\n",
       "    .dataframe tbody tr th {\n",
       "        vertical-align: top;\n",
       "    }\n",
       "\n",
       "    .dataframe thead th {\n",
       "        text-align: right;\n",
       "    }\n",
       "</style>\n",
       "<table border=\"1\" class=\"dataframe\">\n",
       "  <thead>\n",
       "    <tr style=\"text-align: right;\">\n",
       "      <th></th>\n",
       "      <th>Dependents</th>\n",
       "      <th>tenure</th>\n",
       "      <th>OnlineSecurity</th>\n",
       "      <th>OnlineBackup</th>\n",
       "      <th>InternetService</th>\n",
       "      <th>DeviceProtection</th>\n",
       "      <th>TechSupport</th>\n",
       "      <th>Contract</th>\n",
       "      <th>PaperlessBilling</th>\n",
       "      <th>MonthlyCharges</th>\n",
       "      <th>Churn</th>\n",
       "    </tr>\n",
       "  </thead>\n",
       "  <tbody>\n",
       "    <tr>\n",
       "      <th>count</th>\n",
       "      <td>4930</td>\n",
       "      <td>4930.000000</td>\n",
       "      <td>4930</td>\n",
       "      <td>4930</td>\n",
       "      <td>4930</td>\n",
       "      <td>4930</td>\n",
       "      <td>4930</td>\n",
       "      <td>4930</td>\n",
       "      <td>4930</td>\n",
       "      <td>4930.000000</td>\n",
       "      <td>4930</td>\n",
       "    </tr>\n",
       "    <tr>\n",
       "      <th>unique</th>\n",
       "      <td>2</td>\n",
       "      <td>NaN</td>\n",
       "      <td>3</td>\n",
       "      <td>3</td>\n",
       "      <td>3</td>\n",
       "      <td>3</td>\n",
       "      <td>3</td>\n",
       "      <td>3</td>\n",
       "      <td>2</td>\n",
       "      <td>NaN</td>\n",
       "      <td>2</td>\n",
       "    </tr>\n",
       "    <tr>\n",
       "      <th>top</th>\n",
       "      <td>No</td>\n",
       "      <td>NaN</td>\n",
       "      <td>No</td>\n",
       "      <td>No</td>\n",
       "      <td>Fiber optic</td>\n",
       "      <td>No</td>\n",
       "      <td>No</td>\n",
       "      <td>Month-to-month</td>\n",
       "      <td>Yes</td>\n",
       "      <td>NaN</td>\n",
       "      <td>No</td>\n",
       "    </tr>\n",
       "    <tr>\n",
       "      <th>freq</th>\n",
       "      <td>3446</td>\n",
       "      <td>NaN</td>\n",
       "      <td>2445</td>\n",
       "      <td>2172</td>\n",
       "      <td>2172</td>\n",
       "      <td>2186</td>\n",
       "      <td>2467</td>\n",
       "      <td>2721</td>\n",
       "      <td>2957</td>\n",
       "      <td>NaN</td>\n",
       "      <td>3614</td>\n",
       "    </tr>\n",
       "    <tr>\n",
       "      <th>mean</th>\n",
       "      <td>NaN</td>\n",
       "      <td>32.401217</td>\n",
       "      <td>NaN</td>\n",
       "      <td>NaN</td>\n",
       "      <td>NaN</td>\n",
       "      <td>NaN</td>\n",
       "      <td>NaN</td>\n",
       "      <td>NaN</td>\n",
       "      <td>NaN</td>\n",
       "      <td>64.883032</td>\n",
       "      <td>NaN</td>\n",
       "    </tr>\n",
       "    <tr>\n",
       "      <th>std</th>\n",
       "      <td>NaN</td>\n",
       "      <td>24.501193</td>\n",
       "      <td>NaN</td>\n",
       "      <td>NaN</td>\n",
       "      <td>NaN</td>\n",
       "      <td>NaN</td>\n",
       "      <td>NaN</td>\n",
       "      <td>NaN</td>\n",
       "      <td>NaN</td>\n",
       "      <td>29.923960</td>\n",
       "      <td>NaN</td>\n",
       "    </tr>\n",
       "    <tr>\n",
       "      <th>min</th>\n",
       "      <td>NaN</td>\n",
       "      <td>0.000000</td>\n",
       "      <td>NaN</td>\n",
       "      <td>NaN</td>\n",
       "      <td>NaN</td>\n",
       "      <td>NaN</td>\n",
       "      <td>NaN</td>\n",
       "      <td>NaN</td>\n",
       "      <td>NaN</td>\n",
       "      <td>18.800000</td>\n",
       "      <td>NaN</td>\n",
       "    </tr>\n",
       "    <tr>\n",
       "      <th>25%</th>\n",
       "      <td>NaN</td>\n",
       "      <td>9.000000</td>\n",
       "      <td>NaN</td>\n",
       "      <td>NaN</td>\n",
       "      <td>NaN</td>\n",
       "      <td>NaN</td>\n",
       "      <td>NaN</td>\n",
       "      <td>NaN</td>\n",
       "      <td>NaN</td>\n",
       "      <td>37.050000</td>\n",
       "      <td>NaN</td>\n",
       "    </tr>\n",
       "    <tr>\n",
       "      <th>50%</th>\n",
       "      <td>NaN</td>\n",
       "      <td>29.000000</td>\n",
       "      <td>NaN</td>\n",
       "      <td>NaN</td>\n",
       "      <td>NaN</td>\n",
       "      <td>NaN</td>\n",
       "      <td>NaN</td>\n",
       "      <td>NaN</td>\n",
       "      <td>NaN</td>\n",
       "      <td>70.350000</td>\n",
       "      <td>NaN</td>\n",
       "    </tr>\n",
       "    <tr>\n",
       "      <th>75%</th>\n",
       "      <td>NaN</td>\n",
       "      <td>55.000000</td>\n",
       "      <td>NaN</td>\n",
       "      <td>NaN</td>\n",
       "      <td>NaN</td>\n",
       "      <td>NaN</td>\n",
       "      <td>NaN</td>\n",
       "      <td>NaN</td>\n",
       "      <td>NaN</td>\n",
       "      <td>89.850000</td>\n",
       "      <td>NaN</td>\n",
       "    </tr>\n",
       "    <tr>\n",
       "      <th>max</th>\n",
       "      <td>NaN</td>\n",
       "      <td>72.000000</td>\n",
       "      <td>NaN</td>\n",
       "      <td>NaN</td>\n",
       "      <td>NaN</td>\n",
       "      <td>NaN</td>\n",
       "      <td>NaN</td>\n",
       "      <td>NaN</td>\n",
       "      <td>NaN</td>\n",
       "      <td>118.650000</td>\n",
       "      <td>NaN</td>\n",
       "    </tr>\n",
       "  </tbody>\n",
       "</table>\n",
       "</div>"
      ],
      "text/plain": [
       "       Dependents       tenure OnlineSecurity OnlineBackup InternetService  \\\n",
       "count        4930  4930.000000           4930         4930            4930   \n",
       "unique          2          NaN              3            3               3   \n",
       "top            No          NaN             No           No     Fiber optic   \n",
       "freq         3446          NaN           2445         2172            2172   \n",
       "mean          NaN    32.401217            NaN          NaN             NaN   \n",
       "std           NaN    24.501193            NaN          NaN             NaN   \n",
       "min           NaN     0.000000            NaN          NaN             NaN   \n",
       "25%           NaN     9.000000            NaN          NaN             NaN   \n",
       "50%           NaN    29.000000            NaN          NaN             NaN   \n",
       "75%           NaN    55.000000            NaN          NaN             NaN   \n",
       "max           NaN    72.000000            NaN          NaN             NaN   \n",
       "\n",
       "       DeviceProtection TechSupport        Contract PaperlessBilling  \\\n",
       "count              4930        4930            4930             4930   \n",
       "unique                3           3               3                2   \n",
       "top                  No          No  Month-to-month              Yes   \n",
       "freq               2186        2467            2721             2957   \n",
       "mean                NaN         NaN             NaN              NaN   \n",
       "std                 NaN         NaN             NaN              NaN   \n",
       "min                 NaN         NaN             NaN              NaN   \n",
       "25%                 NaN         NaN             NaN              NaN   \n",
       "50%                 NaN         NaN             NaN              NaN   \n",
       "75%                 NaN         NaN             NaN              NaN   \n",
       "max                 NaN         NaN             NaN              NaN   \n",
       "\n",
       "        MonthlyCharges Churn  \n",
       "count      4930.000000  4930  \n",
       "unique             NaN     2  \n",
       "top                NaN    No  \n",
       "freq               NaN  3614  \n",
       "mean         64.883032   NaN  \n",
       "std          29.923960   NaN  \n",
       "min          18.800000   NaN  \n",
       "25%          37.050000   NaN  \n",
       "50%          70.350000   NaN  \n",
       "75%          89.850000   NaN  \n",
       "max         118.650000   NaN  "
      ]
     },
     "execution_count": 4,
     "metadata": {},
     "output_type": "execute_result"
    }
   ],
   "source": [
    "# General Information\n",
    "df.describe(include='all')"
   ]
  },
  {
   "cell_type": "code",
   "execution_count": 5,
   "id": "d912115f",
   "metadata": {
    "ExecuteTime": {
     "end_time": "2023-03-13T07:47:01.233229Z",
     "start_time": "2023-03-13T07:47:01.185517Z"
    }
   },
   "outputs": [
    {
     "name": "stdout",
     "output_type": "stream",
     "text": [
      "<class 'pandas.core.frame.DataFrame'>\n",
      "RangeIndex: 4930 entries, 0 to 4929\n",
      "Data columns (total 11 columns):\n",
      " #   Column            Non-Null Count  Dtype  \n",
      "---  ------            --------------  -----  \n",
      " 0   Dependents        4930 non-null   object \n",
      " 1   tenure            4930 non-null   int64  \n",
      " 2   OnlineSecurity    4930 non-null   object \n",
      " 3   OnlineBackup      4930 non-null   object \n",
      " 4   InternetService   4930 non-null   object \n",
      " 5   DeviceProtection  4930 non-null   object \n",
      " 6   TechSupport       4930 non-null   object \n",
      " 7   Contract          4930 non-null   object \n",
      " 8   PaperlessBilling  4930 non-null   object \n",
      " 9   MonthlyCharges    4930 non-null   float64\n",
      " 10  Churn             4930 non-null   object \n",
      "dtypes: float64(1), int64(1), object(9)\n",
      "memory usage: 423.8+ KB\n"
     ]
    }
   ],
   "source": [
    "# General Information\n",
    "df.info()"
   ]
  },
  {
   "cell_type": "code",
   "execution_count": 6,
   "id": "8a58a2af",
   "metadata": {
    "ExecuteTime": {
     "end_time": "2023-03-13T07:47:01.317963Z",
     "start_time": "2023-03-13T07:47:01.235189Z"
    }
   },
   "outputs": [
    {
     "data": {
      "text/plain": [
       "Dependents          0\n",
       "tenure              0\n",
       "OnlineSecurity      0\n",
       "OnlineBackup        0\n",
       "InternetService     0\n",
       "DeviceProtection    0\n",
       "TechSupport         0\n",
       "Contract            0\n",
       "PaperlessBilling    0\n",
       "MonthlyCharges      0\n",
       "Churn               0\n",
       "dtype: int64"
      ]
     },
     "execution_count": 6,
     "metadata": {},
     "output_type": "execute_result"
    }
   ],
   "source": [
    "# Lihat Missing Value\n",
    "df.isna().sum()"
   ]
  },
  {
   "cell_type": "code",
   "execution_count": 7,
   "id": "4bd04015",
   "metadata": {
    "ExecuteTime": {
     "end_time": "2023-03-13T07:47:01.395483Z",
     "start_time": "2023-03-13T07:47:01.319958Z"
    }
   },
   "outputs": [
    {
     "data": {
      "text/plain": [
       "77"
      ]
     },
     "execution_count": 7,
     "metadata": {},
     "output_type": "execute_result"
    }
   ],
   "source": [
    "# Lihat Duplicate Value\n",
    "df.duplicated().sum()"
   ]
  },
  {
   "cell_type": "code",
   "execution_count": 8,
   "id": "8886418b",
   "metadata": {
    "ExecuteTime": {
     "end_time": "2023-03-13T07:47:01.497211Z",
     "start_time": "2023-03-13T07:47:01.397492Z"
    }
   },
   "outputs": [
    {
     "data": {
      "text/plain": [
       "0"
      ]
     },
     "execution_count": 8,
     "metadata": {},
     "output_type": "execute_result"
    }
   ],
   "source": [
    "# Drop Duplicate Value\n",
    "df=df.drop_duplicates()\n",
    "df.duplicated().sum()"
   ]
  },
  {
   "cell_type": "code",
   "execution_count": 9,
   "id": "5fdcab1c",
   "metadata": {
    "ExecuteTime": {
     "end_time": "2023-03-13T07:47:01.579660Z",
     "start_time": "2023-03-13T07:47:01.499776Z"
    }
   },
   "outputs": [
    {
     "data": {
      "text/plain": [
       "No     0.734597\n",
       "Yes    0.265403\n",
       "Name: Churn, dtype: float64"
      ]
     },
     "execution_count": 9,
     "metadata": {},
     "output_type": "execute_result"
    }
   ],
   "source": [
    "# Melihat apakah datanya balance dan imbalance\n",
    "df['Churn'].value_counts(normalize='index')"
   ]
  },
  {
   "cell_type": "code",
   "execution_count": 10,
   "id": "a3283854",
   "metadata": {
    "ExecuteTime": {
     "end_time": "2023-03-13T07:47:01.801038Z",
     "start_time": "2023-03-13T07:47:01.581813Z"
    }
   },
   "outputs": [
    {
     "data": {
      "text/plain": [
       "<AxesSubplot:ylabel='Churn'>"
      ]
     },
     "execution_count": 10,
     "metadata": {},
     "output_type": "execute_result"
    },
    {
     "data": {
      "image/png": "[encoded data removed]",
      "text/plain": [
       "<Figure size 640x480 with 1 Axes>"
      ]
     },
     "metadata": {},
     "output_type": "display_data"
    }
   ],
   "source": [
    "# Visualisasi apakah datanya balance dan imbalance\n",
    "df['Churn'].value_counts(normalize='index').plot(kind='pie',y='churn',autopct='%1.2f%%')"
   ]
  },
  {
   "cell_type": "code",
   "execution_count": 11,
   "id": "a87e5e40",
   "metadata": {
    "ExecuteTime": {
     "end_time": "2023-03-13T07:47:02.081227Z",
     "start_time": "2023-03-13T07:47:01.803630Z"
    }
   },
   "outputs": [
    {
     "data": {
      "text/plain": [
       "(<Figure size 640x480 with 1 Axes>, <Figure size 640x480 with 1 Axes>)"
      ]
     },
     "execution_count": 11,
     "metadata": {},
     "output_type": "execute_result"
    },
    {
     "data": {
      "image/png": "[encoded data removed]",
      "text/plain": [
       "<Figure size 640x480 with 1 Axes>"
      ]
     },
     "metadata": {},
     "output_type": "display_data"
    },
    {
     "data": {
      "image/png": "[encoded data removed]",
      "text/plain": [
       "<Figure size 640x480 with 1 Axes>"
      ]
     },
     "metadata": {},
     "output_type": "display_data"
    }
   ],
   "source": [
    "# Cek Distribusi feature numerikal\n",
    "sm.qqplot(df['tenure'],line='45'),sm.qqplot(df['MonthlyCharges'],line='45')"
   ]
  },
  {
   "cell_type": "code",
   "execution_count": 12,
   "id": "4d8ea183",
   "metadata": {
    "ExecuteTime": {
     "end_time": "2023-03-13T07:47:02.101283Z",
     "start_time": "2023-03-13T07:47:02.083188Z"
    }
   },
   "outputs": [],
   "source": [
    "# Mengubah kategoti target menjadi 1 dan 0\n",
    "df['Churn']=df['Churn'].map({'Yes':1,'No':0}).astype(int)"
   ]
  },
  {
   "cell_type": "code",
   "execution_count": 13,
   "id": "a9403652",
   "metadata": {
    "ExecuteTime": {
     "end_time": "2023-03-13T07:47:02.338714Z",
     "start_time": "2023-03-13T07:47:02.101283Z"
    }
   },
   "outputs": [
    {
     "data": {
      "image/png": "[encoded data removed]",
      "text/plain": [
       "<Figure size 1000x700 with 2 Axes>"
      ]
     },
     "metadata": {},
     "output_type": "display_data"
    }
   ],
   "source": [
    "# Melihat Correlation dari data numerikal dengan target\n",
    "plt.figure(figsize=(10,7))\n",
    "sns.heatmap(df.corr(),cmap='vlag',annot=True)\n",
    "plt.show()"
   ]
  },
  {
   "cell_type": "markdown",
   "id": "01b3afce",
   "metadata": {},
   "source": [
    "1. Dataset tidak seimbang, dengan persentase customer yang churn adalah 26,54%\n",
    "2. Feature Dependents, OnlineSecurity, OnlineBackup, InternetService, DeviceProtection, TechSupport, Contract, dan PaperlessBilling merupakan feature kategorikal.\n",
    "3. Feature Tenure dan MonthlyCharges merupakan feature numerical.\n",
    "4. Distribusi dari Tenure dan MonthlyCharges tidak normal.\n",
    "5. Berikut penjelasan singkat mengenai feature-feature tersebut:\n",
    "    - Dependents : Apakah customer memiliki tanggungan atau tidak.\n",
    "    - Tenure : Jumlah bulan customer memakai jasa perusahaan.\n",
    "    - OnlineSecurity : Apakah customer memiliki keamanan online atau tidak.\n",
    "    - OnlineBackup : Apakah customer memiliki cadangan online atau tidak.\n",
    "    - InternetService : Apakah customer berlangganan layanan Internet.\n",
    "    - DeviceProtection : Apakah customer memiliki perlindungan perangkat atau tidak.\n",
    "    - TechSupport : Apakah customer memiliki dukungan teknis atau tidak.\n",
    "    - Contract : Jenis kontrak menurut durasi.\n",
    "    - PaperlessBilling : Tagihan diterbitkan dalam bentuk tanpa kertas.\n",
    "    - MonthlyCharges : Jumlah biaya untuk layanan pada basis bulanan.\n",
    "    - Churn : Apakah pelanggan melakukan churn atau tidak.\n",
    "6. Tidak terdapat missing value pada dataset kita.\n",
    "7. Terdapat 77 duplicates data, kita akan drop saja karena data terebut hanya 1% dari total data kita."
   ]
  },
  {
   "cell_type": "code",
   "execution_count": 14,
   "id": "2bb9b199",
   "metadata": {
    "ExecuteTime": {
     "end_time": "2023-03-13T07:47:02.354570Z",
     "start_time": "2023-03-13T07:47:02.345594Z"
    }
   },
   "outputs": [],
   "source": [
    "# Mengdefinisikan feature dan target\n",
    "x=df.drop(columns=['Churn'])\n",
    "y=df['Churn']"
   ]
  },
  {
   "cell_type": "code",
   "execution_count": 15,
   "id": "d6c0aa9d",
   "metadata": {
    "ExecuteTime": {
     "end_time": "2023-03-13T07:47:02.445616Z",
     "start_time": "2023-03-13T07:47:02.355785Z"
    }
   },
   "outputs": [],
   "source": [
    "# Split menjadi data train dan test\n",
    "xtrain,xtest,ytrain,ytest=train_test_split(x,y,random_state=2023,stratify=y,test_size=0.2)"
   ]
  },
  {
   "cell_type": "code",
   "execution_count": 16,
   "id": "b8b9eeef",
   "metadata": {
    "ExecuteTime": {
     "end_time": "2023-03-13T07:47:02.513542Z",
     "start_time": "2023-03-13T07:47:02.448624Z"
    }
   },
   "outputs": [],
   "source": [
    "# Pendefinisian Encoder dan Scaler\n",
    "transformer=ColumnTransformer([\n",
    "    ('Encoding',OneHotEncoder(drop='first'),['Dependents','OnlineSecurity','OnlineBackup','InternetService','DeviceProtection','TechSupport','Contract','PaperlessBilling']),\n",
    "    ('Scaling',RobustScaler(),['tenure','MonthlyCharges'])\n",
    "],remainder='passthrough')"
   ]
  },
  {
   "cell_type": "code",
   "execution_count": 17,
   "id": "2a9d368b",
   "metadata": {
    "ExecuteTime": {
     "end_time": "2023-03-13T07:47:02.598275Z",
     "start_time": "2023-03-13T07:47:02.515540Z"
    }
   },
   "outputs": [],
   "source": [
    "# Pendifinisian resampler\n",
    "ros=RandomOverSampler()\n",
    "rus=RandomUnderSampler()"
   ]
  },
  {
   "cell_type": "code",
   "execution_count": 18,
   "id": "ffc825a2",
   "metadata": {
    "ExecuteTime": {
     "end_time": "2023-03-13T07:47:02.679923Z",
     "start_time": "2023-03-13T07:47:02.600276Z"
    }
   },
   "outputs": [],
   "source": [
    "# Pendefinisian model\n",
    "model_log_reg=LogisticRegression(random_state=2023)\n",
    "model_knn=KNeighborsClassifier()\n",
    "model_tree=DecisionTreeClassifier(random_state=2023)\n",
    "model_vc=VotingClassifier([\n",
    "    ('model1',model_log_reg),\n",
    "    ('model2',model_knn),\n",
    "    ('model3',model_tree)\n",
    "])\n",
    "model_sc=StackingClassifier([\n",
    "    ('model1',model_log_reg),\n",
    "    ('model2',model_knn),\n",
    "    ('model3',model_tree)\n",
    "])\n",
    "model_rf=RandomForestClassifier(random_state=2023)\n",
    "model_abc=AdaBoostClassifier(random_state=2023)\n",
    "model_gbc=GradientBoostingClassifier(random_state=2023)"
   ]
  },
  {
   "cell_type": "markdown",
   "id": "925f9f03",
   "metadata": {},
   "source": [
    "Untuk feature nya, kita akan gunakan seluruh kolom dari data kita kecuali kolom **Churn**, dan targetnya sendiri adalah kolom **Churn** itu sendiri. Lalu kita split data train dan test nya menjadi 80:20. Kita gunakan stratify agar porsi pembagian train dan test nya serupa dgn data aslinya.\n",
    "\n",
    "Untuk tahap pre-processing, kita akan mengubah seluruh data kategorikal memakai One Hot Encoder karena jumlah pembagian kategori pada feature-feature tersebut tidak terlalu banyak, dimana seluruh feature kategorikal kita hanya mempunyai 2 atau 3 value yg unique saja. Cara kerja One Hot Encoder ini sendiri adalah system akan membuat kolom-kolom baru sesuai dengan jumlah kategorikal yang ada. Isi pada kolom-kolom baru tersebut adalah binary 1 atau 0, dimana ketika kategori suatu kolom tersebut adalah kategori tersebut, maka isinya adalah 1, jika bukan maka isinya adalah 0. Kita gunakan drop='first', untuk drop kolom pertama ketika system membuat kolom-kolom baru tersebut.  \n",
    "Lalu untuk data numerikal, kita akan mengubahnya dengan Robust Scaler, karena sesuai dari yang kita lihat di atas, distribusi data numerik tersebut tidak normal. Cara kerja Robust Scaler itu sendiri adalah meng-scaling angka-angka berdasarkan quantile range nya, sebab itu Robust Scaler biasa digunakan ketika ada outlier.\n",
    "\n",
    "Berikutnya, karena data kita imbalance, kata akan melakukan resampling. Metode yang akan kita gunakan ada 2, yaitu Random Over Sampler dan Random Under Sampler.\n",
    "\n",
    "Untuk modelnya sendiri kita akan mencoba untuk memakai Logistic Regression, K Neighbors Classifier, Decision Tree Classifier, Voting Classifier, Stacking Classifier, Random Forest Classifier, Ada Boost Classifier, dan Gradient Boosting Classifier."
   ]
  },
  {
   "cell_type": "markdown",
   "id": "17f470e0",
   "metadata": {},
   "source": [
    "# Benchmarking"
   ]
  },
  {
   "cell_type": "code",
   "execution_count": 19,
   "id": "9834069c",
   "metadata": {
    "ExecuteTime": {
     "end_time": "2023-03-13T07:47:09.662994Z",
     "start_time": "2023-03-13T07:47:02.682920Z"
    },
    "scrolled": true
   },
   "outputs": [
    {
     "name": "stderr",
     "output_type": "stream",
     "text": [
      "C:\\Users\\Teo\\anaconda3\\lib\\site-packages\\sklearn\\neighbors\\_classification.py:228: FutureWarning: Unlike other reduction functions (e.g. `skew`, `kurtosis`), the default behavior of `mode` typically preserves the axis it acts along. In SciPy 1.11.0, this behavior will change: the default value of `keepdims` will become False, the `axis` over which the statistic is taken will be eliminated, and the value None will no longer be accepted. Set `keepdims` to True or False to avoid this warning.\n",
      "  mode, _ = stats.mode(_y[neigh_ind, k], axis=1)\n",
      "C:\\Users\\Teo\\anaconda3\\lib\\site-packages\\sklearn\\neighbors\\_classification.py:228: FutureWarning: Unlike other reduction functions (e.g. `skew`, `kurtosis`), the default behavior of `mode` typically preserves the axis it acts along. In SciPy 1.11.0, this behavior will change: the default value of `keepdims` will become False, the `axis` over which the statistic is taken will be eliminated, and the value None will no longer be accepted. Set `keepdims` to True or False to avoid this warning.\n",
      "  mode, _ = stats.mode(_y[neigh_ind, k], axis=1)\n",
      "C:\\Users\\Teo\\anaconda3\\lib\\site-packages\\sklearn\\neighbors\\_classification.py:228: FutureWarning: Unlike other reduction functions (e.g. `skew`, `kurtosis`), the default behavior of `mode` typically preserves the axis it acts along. In SciPy 1.11.0, this behavior will change: the default value of `keepdims` will become False, the `axis` over which the statistic is taken will be eliminated, and the value None will no longer be accepted. Set `keepdims` to True or False to avoid this warning.\n",
      "  mode, _ = stats.mode(_y[neigh_ind, k], axis=1)\n",
      "C:\\Users\\Teo\\anaconda3\\lib\\site-packages\\sklearn\\neighbors\\_classification.py:228: FutureWarning: Unlike other reduction functions (e.g. `skew`, `kurtosis`), the default behavior of `mode` typically preserves the axis it acts along. In SciPy 1.11.0, this behavior will change: the default value of `keepdims` will become False, the `axis` over which the statistic is taken will be eliminated, and the value None will no longer be accepted. Set `keepdims` to True or False to avoid this warning.\n",
      "  mode, _ = stats.mode(_y[neigh_ind, k], axis=1)\n",
      "C:\\Users\\Teo\\anaconda3\\lib\\site-packages\\sklearn\\neighbors\\_classification.py:228: FutureWarning: Unlike other reduction functions (e.g. `skew`, `kurtosis`), the default behavior of `mode` typically preserves the axis it acts along. In SciPy 1.11.0, this behavior will change: the default value of `keepdims` will become False, the `axis` over which the statistic is taken will be eliminated, and the value None will no longer be accepted. Set `keepdims` to True or False to avoid this warning.\n",
      "  mode, _ = stats.mode(_y[neigh_ind, k], axis=1)\n",
      "C:\\Users\\Teo\\anaconda3\\lib\\site-packages\\sklearn\\neighbors\\_classification.py:228: FutureWarning: Unlike other reduction functions (e.g. `skew`, `kurtosis`), the default behavior of `mode` typically preserves the axis it acts along. In SciPy 1.11.0, this behavior will change: the default value of `keepdims` will become False, the `axis` over which the statistic is taken will be eliminated, and the value None will no longer be accepted. Set `keepdims` to True or False to avoid this warning.\n",
      "  mode, _ = stats.mode(_y[neigh_ind, k], axis=1)\n",
      "C:\\Users\\Teo\\anaconda3\\lib\\site-packages\\sklearn\\neighbors\\_classification.py:228: FutureWarning: Unlike other reduction functions (e.g. `skew`, `kurtosis`), the default behavior of `mode` typically preserves the axis it acts along. In SciPy 1.11.0, this behavior will change: the default value of `keepdims` will become False, the `axis` over which the statistic is taken will be eliminated, and the value None will no longer be accepted. Set `keepdims` to True or False to avoid this warning.\n",
      "  mode, _ = stats.mode(_y[neigh_ind, k], axis=1)\n",
      "C:\\Users\\Teo\\anaconda3\\lib\\site-packages\\sklearn\\neighbors\\_classification.py:228: FutureWarning: Unlike other reduction functions (e.g. `skew`, `kurtosis`), the default behavior of `mode` typically preserves the axis it acts along. In SciPy 1.11.0, this behavior will change: the default value of `keepdims` will become False, the `axis` over which the statistic is taken will be eliminated, and the value None will no longer be accepted. Set `keepdims` to True or False to avoid this warning.\n",
      "  mode, _ = stats.mode(_y[neigh_ind, k], axis=1)\n",
      "C:\\Users\\Teo\\anaconda3\\lib\\site-packages\\sklearn\\neighbors\\_classification.py:228: FutureWarning: Unlike other reduction functions (e.g. `skew`, `kurtosis`), the default behavior of `mode` typically preserves the axis it acts along. In SciPy 1.11.0, this behavior will change: the default value of `keepdims` will become False, the `axis` over which the statistic is taken will be eliminated, and the value None will no longer be accepted. Set `keepdims` to True or False to avoid this warning.\n",
      "  mode, _ = stats.mode(_y[neigh_ind, k], axis=1)\n",
      "C:\\Users\\Teo\\anaconda3\\lib\\site-packages\\sklearn\\neighbors\\_classification.py:228: FutureWarning: Unlike other reduction functions (e.g. `skew`, `kurtosis`), the default behavior of `mode` typically preserves the axis it acts along. In SciPy 1.11.0, this behavior will change: the default value of `keepdims` will become False, the `axis` over which the statistic is taken will be eliminated, and the value None will no longer be accepted. Set `keepdims` to True or False to avoid this warning.\n",
      "  mode, _ = stats.mode(_y[neigh_ind, k], axis=1)\n"
     ]
    }
   ],
   "source": [
    "# Cross validasi tanpa kita resample\n",
    "model=[model_log_reg,model_knn,model_tree,model_rf,model_abc,model_gbc,model_vc,model_sc]\n",
    "score=[]\n",
    "mean=[]\n",
    "std=[]\n",
    "\n",
    "for i in model:\n",
    "    model_pipeline=Pipeline([\n",
    "        ('preprocessing',transformer),\n",
    "        ('modeling',i)\n",
    "    ])\n",
    "    model_score=np.round(cross_val_score(model_pipeline,xtrain,ytrain,cv=5,scoring='recall'),2)\n",
    "    score.append(model_score)\n",
    "    mean.append(model_score.mean())\n",
    "    std.append(model_score.std())\n",
    "\n",
    "normal=pd.DataFrame({\n",
    "    'Model':['LogReg','Neighbors','Tree','Forest','AdaBoost','GradBoost','Voting','Stacking'],\n",
    "    'Mean':mean,\n",
    "    'Deviation':std,\n",
    "})"
   ]
  },
  {
   "cell_type": "code",
   "execution_count": 20,
   "id": "2b540667",
   "metadata": {
    "ExecuteTime": {
     "end_time": "2023-03-13T07:47:19.181626Z",
     "start_time": "2023-03-13T07:47:09.666331Z"
    },
    "scrolled": true
   },
   "outputs": [
    {
     "name": "stderr",
     "output_type": "stream",
     "text": [
      "C:\\Users\\Teo\\anaconda3\\lib\\site-packages\\sklearn\\neighbors\\_classification.py:228: FutureWarning: Unlike other reduction functions (e.g. `skew`, `kurtosis`), the default behavior of `mode` typically preserves the axis it acts along. In SciPy 1.11.0, this behavior will change: the default value of `keepdims` will become False, the `axis` over which the statistic is taken will be eliminated, and the value None will no longer be accepted. Set `keepdims` to True or False to avoid this warning.\n",
      "  mode, _ = stats.mode(_y[neigh_ind, k], axis=1)\n",
      "C:\\Users\\Teo\\anaconda3\\lib\\site-packages\\sklearn\\neighbors\\_classification.py:228: FutureWarning: Unlike other reduction functions (e.g. `skew`, `kurtosis`), the default behavior of `mode` typically preserves the axis it acts along. In SciPy 1.11.0, this behavior will change: the default value of `keepdims` will become False, the `axis` over which the statistic is taken will be eliminated, and the value None will no longer be accepted. Set `keepdims` to True or False to avoid this warning.\n",
      "  mode, _ = stats.mode(_y[neigh_ind, k], axis=1)\n",
      "C:\\Users\\Teo\\anaconda3\\lib\\site-packages\\sklearn\\neighbors\\_classification.py:228: FutureWarning: Unlike other reduction functions (e.g. `skew`, `kurtosis`), the default behavior of `mode` typically preserves the axis it acts along. In SciPy 1.11.0, this behavior will change: the default value of `keepdims` will become False, the `axis` over which the statistic is taken will be eliminated, and the value None will no longer be accepted. Set `keepdims` to True or False to avoid this warning.\n",
      "  mode, _ = stats.mode(_y[neigh_ind, k], axis=1)\n",
      "C:\\Users\\Teo\\anaconda3\\lib\\site-packages\\sklearn\\neighbors\\_classification.py:228: FutureWarning: Unlike other reduction functions (e.g. `skew`, `kurtosis`), the default behavior of `mode` typically preserves the axis it acts along. In SciPy 1.11.0, this behavior will change: the default value of `keepdims` will become False, the `axis` over which the statistic is taken will be eliminated, and the value None will no longer be accepted. Set `keepdims` to True or False to avoid this warning.\n",
      "  mode, _ = stats.mode(_y[neigh_ind, k], axis=1)\n",
      "C:\\Users\\Teo\\anaconda3\\lib\\site-packages\\sklearn\\neighbors\\_classification.py:228: FutureWarning: Unlike other reduction functions (e.g. `skew`, `kurtosis`), the default behavior of `mode` typically preserves the axis it acts along. In SciPy 1.11.0, this behavior will change: the default value of `keepdims` will become False, the `axis` over which the statistic is taken will be eliminated, and the value None will no longer be accepted. Set `keepdims` to True or False to avoid this warning.\n",
      "  mode, _ = stats.mode(_y[neigh_ind, k], axis=1)\n",
      "C:\\Users\\Teo\\anaconda3\\lib\\site-packages\\sklearn\\neighbors\\_classification.py:228: FutureWarning: Unlike other reduction functions (e.g. `skew`, `kurtosis`), the default behavior of `mode` typically preserves the axis it acts along. In SciPy 1.11.0, this behavior will change: the default value of `keepdims` will become False, the `axis` over which the statistic is taken will be eliminated, and the value None will no longer be accepted. Set `keepdims` to True or False to avoid this warning.\n",
      "  mode, _ = stats.mode(_y[neigh_ind, k], axis=1)\n",
      "C:\\Users\\Teo\\anaconda3\\lib\\site-packages\\sklearn\\neighbors\\_classification.py:228: FutureWarning: Unlike other reduction functions (e.g. `skew`, `kurtosis`), the default behavior of `mode` typically preserves the axis it acts along. In SciPy 1.11.0, this behavior will change: the default value of `keepdims` will become False, the `axis` over which the statistic is taken will be eliminated, and the value None will no longer be accepted. Set `keepdims` to True or False to avoid this warning.\n",
      "  mode, _ = stats.mode(_y[neigh_ind, k], axis=1)\n",
      "C:\\Users\\Teo\\anaconda3\\lib\\site-packages\\sklearn\\neighbors\\_classification.py:228: FutureWarning: Unlike other reduction functions (e.g. `skew`, `kurtosis`), the default behavior of `mode` typically preserves the axis it acts along. In SciPy 1.11.0, this behavior will change: the default value of `keepdims` will become False, the `axis` over which the statistic is taken will be eliminated, and the value None will no longer be accepted. Set `keepdims` to True or False to avoid this warning.\n",
      "  mode, _ = stats.mode(_y[neigh_ind, k], axis=1)\n",
      "C:\\Users\\Teo\\anaconda3\\lib\\site-packages\\sklearn\\neighbors\\_classification.py:228: FutureWarning: Unlike other reduction functions (e.g. `skew`, `kurtosis`), the default behavior of `mode` typically preserves the axis it acts along. In SciPy 1.11.0, this behavior will change: the default value of `keepdims` will become False, the `axis` over which the statistic is taken will be eliminated, and the value None will no longer be accepted. Set `keepdims` to True or False to avoid this warning.\n",
      "  mode, _ = stats.mode(_y[neigh_ind, k], axis=1)\n",
      "C:\\Users\\Teo\\anaconda3\\lib\\site-packages\\sklearn\\neighbors\\_classification.py:228: FutureWarning: Unlike other reduction functions (e.g. `skew`, `kurtosis`), the default behavior of `mode` typically preserves the axis it acts along. In SciPy 1.11.0, this behavior will change: the default value of `keepdims` will become False, the `axis` over which the statistic is taken will be eliminated, and the value None will no longer be accepted. Set `keepdims` to True or False to avoid this warning.\n",
      "  mode, _ = stats.mode(_y[neigh_ind, k], axis=1)\n"
     ]
    }
   ],
   "source": [
    "# Cross validasi dengan metode Random Over Sampling\n",
    "model=[model_log_reg,model_knn,model_tree,model_rf,model_abc,model_gbc,model_vc,model_sc]\n",
    "score_ros=[]\n",
    "mean_ros=[]\n",
    "std_ros=[]\n",
    "\n",
    "for i in model:\n",
    "    model_pipeline=Pipeline([\n",
    "        ('preprocessing',transformer),\n",
    "        ('resampling',ros),\n",
    "        ('modeling',i)\n",
    "    ])\n",
    "    model_score=np.round(cross_val_score(model_pipeline,xtrain,ytrain,cv=5,scoring='recall'),2)\n",
    "    score_ros.append(model_score)\n",
    "    mean_ros.append(model_score.mean())\n",
    "    std_ros.append(model_score.std())\n",
    "\n",
    "rosdf=pd.DataFrame({\n",
    "    'Model':['LogReg','Neighbors','Tree','Forest','AdaBoost','GradBoost','Voting','Stacking'],\n",
    "    'Mean Over Sampling':mean_ros,\n",
    "    'Deviation Over Sampling':std_ros,\n",
    "})"
   ]
  },
  {
   "cell_type": "code",
   "execution_count": 21,
   "id": "8436e569",
   "metadata": {
    "ExecuteTime": {
     "end_time": "2023-03-13T07:47:23.974841Z",
     "start_time": "2023-03-13T07:47:19.184626Z"
    },
    "scrolled": true
   },
   "outputs": [
    {
     "name": "stderr",
     "output_type": "stream",
     "text": [
      "C:\\Users\\Teo\\anaconda3\\lib\\site-packages\\sklearn\\neighbors\\_classification.py:228: FutureWarning: Unlike other reduction functions (e.g. `skew`, `kurtosis`), the default behavior of `mode` typically preserves the axis it acts along. In SciPy 1.11.0, this behavior will change: the default value of `keepdims` will become False, the `axis` over which the statistic is taken will be eliminated, and the value None will no longer be accepted. Set `keepdims` to True or False to avoid this warning.\n",
      "  mode, _ = stats.mode(_y[neigh_ind, k], axis=1)\n",
      "C:\\Users\\Teo\\anaconda3\\lib\\site-packages\\sklearn\\neighbors\\_classification.py:228: FutureWarning: Unlike other reduction functions (e.g. `skew`, `kurtosis`), the default behavior of `mode` typically preserves the axis it acts along. In SciPy 1.11.0, this behavior will change: the default value of `keepdims` will become False, the `axis` over which the statistic is taken will be eliminated, and the value None will no longer be accepted. Set `keepdims` to True or False to avoid this warning.\n",
      "  mode, _ = stats.mode(_y[neigh_ind, k], axis=1)\n",
      "C:\\Users\\Teo\\anaconda3\\lib\\site-packages\\sklearn\\neighbors\\_classification.py:228: FutureWarning: Unlike other reduction functions (e.g. `skew`, `kurtosis`), the default behavior of `mode` typically preserves the axis it acts along. In SciPy 1.11.0, this behavior will change: the default value of `keepdims` will become False, the `axis` over which the statistic is taken will be eliminated, and the value None will no longer be accepted. Set `keepdims` to True or False to avoid this warning.\n",
      "  mode, _ = stats.mode(_y[neigh_ind, k], axis=1)\n",
      "C:\\Users\\Teo\\anaconda3\\lib\\site-packages\\sklearn\\neighbors\\_classification.py:228: FutureWarning: Unlike other reduction functions (e.g. `skew`, `kurtosis`), the default behavior of `mode` typically preserves the axis it acts along. In SciPy 1.11.0, this behavior will change: the default value of `keepdims` will become False, the `axis` over which the statistic is taken will be eliminated, and the value None will no longer be accepted. Set `keepdims` to True or False to avoid this warning.\n",
      "  mode, _ = stats.mode(_y[neigh_ind, k], axis=1)\n",
      "C:\\Users\\Teo\\anaconda3\\lib\\site-packages\\sklearn\\neighbors\\_classification.py:228: FutureWarning: Unlike other reduction functions (e.g. `skew`, `kurtosis`), the default behavior of `mode` typically preserves the axis it acts along. In SciPy 1.11.0, this behavior will change: the default value of `keepdims` will become False, the `axis` over which the statistic is taken will be eliminated, and the value None will no longer be accepted. Set `keepdims` to True or False to avoid this warning.\n",
      "  mode, _ = stats.mode(_y[neigh_ind, k], axis=1)\n",
      "C:\\Users\\Teo\\anaconda3\\lib\\site-packages\\sklearn\\neighbors\\_classification.py:228: FutureWarning: Unlike other reduction functions (e.g. `skew`, `kurtosis`), the default behavior of `mode` typically preserves the axis it acts along. In SciPy 1.11.0, this behavior will change: the default value of `keepdims` will become False, the `axis` over which the statistic is taken will be eliminated, and the value None will no longer be accepted. Set `keepdims` to True or False to avoid this warning.\n",
      "  mode, _ = stats.mode(_y[neigh_ind, k], axis=1)\n",
      "C:\\Users\\Teo\\anaconda3\\lib\\site-packages\\sklearn\\neighbors\\_classification.py:228: FutureWarning: Unlike other reduction functions (e.g. `skew`, `kurtosis`), the default behavior of `mode` typically preserves the axis it acts along. In SciPy 1.11.0, this behavior will change: the default value of `keepdims` will become False, the `axis` over which the statistic is taken will be eliminated, and the value None will no longer be accepted. Set `keepdims` to True or False to avoid this warning.\n",
      "  mode, _ = stats.mode(_y[neigh_ind, k], axis=1)\n",
      "C:\\Users\\Teo\\anaconda3\\lib\\site-packages\\sklearn\\neighbors\\_classification.py:228: FutureWarning: Unlike other reduction functions (e.g. `skew`, `kurtosis`), the default behavior of `mode` typically preserves the axis it acts along. In SciPy 1.11.0, this behavior will change: the default value of `keepdims` will become False, the `axis` over which the statistic is taken will be eliminated, and the value None will no longer be accepted. Set `keepdims` to True or False to avoid this warning.\n",
      "  mode, _ = stats.mode(_y[neigh_ind, k], axis=1)\n",
      "C:\\Users\\Teo\\anaconda3\\lib\\site-packages\\sklearn\\neighbors\\_classification.py:228: FutureWarning: Unlike other reduction functions (e.g. `skew`, `kurtosis`), the default behavior of `mode` typically preserves the axis it acts along. In SciPy 1.11.0, this behavior will change: the default value of `keepdims` will become False, the `axis` over which the statistic is taken will be eliminated, and the value None will no longer be accepted. Set `keepdims` to True or False to avoid this warning.\n",
      "  mode, _ = stats.mode(_y[neigh_ind, k], axis=1)\n",
      "C:\\Users\\Teo\\anaconda3\\lib\\site-packages\\sklearn\\neighbors\\_classification.py:228: FutureWarning: Unlike other reduction functions (e.g. `skew`, `kurtosis`), the default behavior of `mode` typically preserves the axis it acts along. In SciPy 1.11.0, this behavior will change: the default value of `keepdims` will become False, the `axis` over which the statistic is taken will be eliminated, and the value None will no longer be accepted. Set `keepdims` to True or False to avoid this warning.\n",
      "  mode, _ = stats.mode(_y[neigh_ind, k], axis=1)\n"
     ]
    }
   ],
   "source": [
    "# Cross validasi dengan metode Under Over Sampling\n",
    "model=[model_log_reg,model_knn,model_tree,model_rf,model_abc,model_gbc,model_vc,model_sc]\n",
    "score_rus=[]\n",
    "mean_rus=[]\n",
    "std_rus=[]\n",
    "\n",
    "for i in model:\n",
    "    model_pipeline=Pipeline([\n",
    "        ('preprocessing',transformer),\n",
    "        ('resampling',rus),\n",
    "        ('modeling',i)\n",
    "    ])\n",
    "    model_score=np.round(cross_val_score(model_pipeline,xtrain,ytrain,cv=5,scoring='recall'),2)\n",
    "    score_rus.append(model_score)\n",
    "    mean_rus.append(model_score.mean())\n",
    "    std_rus.append(model_score.std())\n",
    "\n",
    "rusdf=pd.DataFrame({\n",
    "    'Model':['LogReg','Neighbors','Tree','Forest','AdaBoost','GradBoost','Voting','Stacking'],\n",
    "    'Mean Under Sampling':mean_rus,\n",
    "    'Deviation Under Sampling':std_rus,\n",
    "})"
   ]
  },
  {
   "cell_type": "code",
   "execution_count": 22,
   "id": "c1046ddf",
   "metadata": {
    "ExecuteTime": {
     "end_time": "2023-03-13T07:47:23.998840Z",
     "start_time": "2023-03-13T07:47:23.974841Z"
    }
   },
   "outputs": [
    {
     "data": {
      "text/html": [
       "<div>\n",
       "<style scoped>\n",
       "    .dataframe tbody tr th:only-of-type {\n",
       "        vertical-align: middle;\n",
       "    }\n",
       "\n",
       "    .dataframe tbody tr th {\n",
       "        vertical-align: top;\n",
       "    }\n",
       "\n",
       "    .dataframe thead th {\n",
       "        text-align: right;\n",
       "    }\n",
       "</style>\n",
       "<table border=\"1\" class=\"dataframe\">\n",
       "  <thead>\n",
       "    <tr style=\"text-align: right;\">\n",
       "      <th></th>\n",
       "      <th>Model</th>\n",
       "      <th>Mean</th>\n",
       "      <th>Deviation</th>\n",
       "      <th>Mean Over Sampling</th>\n",
       "      <th>Deviation Over Sampling</th>\n",
       "      <th>Mean Under Sampling</th>\n",
       "      <th>Deviation Under Sampling</th>\n",
       "    </tr>\n",
       "  </thead>\n",
       "  <tbody>\n",
       "    <tr>\n",
       "      <th>0</th>\n",
       "      <td>LogReg</td>\n",
       "      <td>0.508</td>\n",
       "      <td>0.019391</td>\n",
       "      <td>0.788</td>\n",
       "      <td>0.023152</td>\n",
       "      <td>0.788</td>\n",
       "      <td>0.023152</td>\n",
       "    </tr>\n",
       "    <tr>\n",
       "      <th>1</th>\n",
       "      <td>Neighbors</td>\n",
       "      <td>0.484</td>\n",
       "      <td>0.026533</td>\n",
       "      <td>0.724</td>\n",
       "      <td>0.042708</td>\n",
       "      <td>0.762</td>\n",
       "      <td>0.023152</td>\n",
       "    </tr>\n",
       "    <tr>\n",
       "      <th>2</th>\n",
       "      <td>Tree</td>\n",
       "      <td>0.494</td>\n",
       "      <td>0.044091</td>\n",
       "      <td>0.510</td>\n",
       "      <td>0.041473</td>\n",
       "      <td>0.698</td>\n",
       "      <td>0.032496</td>\n",
       "    </tr>\n",
       "    <tr>\n",
       "      <th>3</th>\n",
       "      <td>Forest</td>\n",
       "      <td>0.468</td>\n",
       "      <td>0.024819</td>\n",
       "      <td>0.536</td>\n",
       "      <td>0.030067</td>\n",
       "      <td>0.704</td>\n",
       "      <td>0.025768</td>\n",
       "    </tr>\n",
       "    <tr>\n",
       "      <th>4</th>\n",
       "      <td>AdaBoost</td>\n",
       "      <td>0.494</td>\n",
       "      <td>0.020591</td>\n",
       "      <td>0.812</td>\n",
       "      <td>0.026382</td>\n",
       "      <td>0.816</td>\n",
       "      <td>0.023324</td>\n",
       "    </tr>\n",
       "    <tr>\n",
       "      <th>5</th>\n",
       "      <td>GradBoost</td>\n",
       "      <td>0.502</td>\n",
       "      <td>0.011662</td>\n",
       "      <td>0.776</td>\n",
       "      <td>0.026533</td>\n",
       "      <td>0.786</td>\n",
       "      <td>0.020591</td>\n",
       "    </tr>\n",
       "    <tr>\n",
       "      <th>6</th>\n",
       "      <td>Voting</td>\n",
       "      <td>0.494</td>\n",
       "      <td>0.012000</td>\n",
       "      <td>0.708</td>\n",
       "      <td>0.023152</td>\n",
       "      <td>0.776</td>\n",
       "      <td>0.017436</td>\n",
       "    </tr>\n",
       "    <tr>\n",
       "      <th>7</th>\n",
       "      <td>Stacking</td>\n",
       "      <td>0.496</td>\n",
       "      <td>0.020591</td>\n",
       "      <td>0.468</td>\n",
       "      <td>0.061123</td>\n",
       "      <td>0.784</td>\n",
       "      <td>0.025768</td>\n",
       "    </tr>\n",
       "  </tbody>\n",
       "</table>\n",
       "</div>"
      ],
      "text/plain": [
       "       Model   Mean  Deviation  Mean Over Sampling  Deviation Over Sampling  \\\n",
       "0     LogReg  0.508   0.019391               0.788                 0.023152   \n",
       "1  Neighbors  0.484   0.026533               0.724                 0.042708   \n",
       "2       Tree  0.494   0.044091               0.510                 0.041473   \n",
       "3     Forest  0.468   0.024819               0.536                 0.030067   \n",
       "4   AdaBoost  0.494   0.020591               0.812                 0.026382   \n",
       "5  GradBoost  0.502   0.011662               0.776                 0.026533   \n",
       "6     Voting  0.494   0.012000               0.708                 0.023152   \n",
       "7   Stacking  0.496   0.020591               0.468                 0.061123   \n",
       "\n",
       "   Mean Under Sampling  Deviation Under Sampling  \n",
       "0                0.788                  0.023152  \n",
       "1                0.762                  0.023152  \n",
       "2                0.698                  0.032496  \n",
       "3                0.704                  0.025768  \n",
       "4                0.816                  0.023324  \n",
       "5                0.786                  0.020591  \n",
       "6                0.776                  0.017436  \n",
       "7                0.784                  0.025768  "
      ]
     },
     "execution_count": 22,
     "metadata": {},
     "output_type": "execute_result"
    }
   ],
   "source": [
    "# Hasil dari Cross Validation\n",
    "normal.merge(rosdf,on='Model').merge(rusdf,on='Model')"
   ]
  },
  {
   "cell_type": "markdown",
   "id": "2cfc5929",
   "metadata": {},
   "source": [
    "Untuk benchmarking kita, kita akan mengimplementasikan pipeline dengan urutan yg pertama adalah tahap pre-processing, yaitu Encoding dan Scaling yang dijadikan satu menggunakan Column Transformer. Lalu yang kedua adalah tahap resampling, dimana pada percobaan pertama kita tidak akan melakukan resampling untuk mencari tahu score awal dari model-model yang telah kita tetapkan, dan baru akan mengimplementasikan resampling pada percobaan kedua dan ketiga. Lalu yang ketiga baru kita lakukan modeling untuk mencari tahu berapa nilai yang kita dapatkan dari model-model tersebut.\n",
    "\n",
    "Untuk mencari tahu nilai model mana yang terbaik, maka kita gunakan Cross Validation, dimana Cross Validation ini akan membagi data train kita menjadi 2 lagi, yaitu data train for validation dan data validation, yang nantinya akan divalidasi sebanyak yang kita tentukan, dengan metode scoring yang kita gunakan adalah **Recall**.\n",
    "\n",
    "Jika kita lihat hasilnya, terdapat variasi kenaikan ataupun penurunan nilai score model diatas. Tetapi bisa kita lihat bahwa model Adaptive Boosting Classifier mengalami perubahan yang cukup significant, dari score kurang lebih 0.5 sebelum kita implementasikan resampling, menjadi nilai tertinggi dari semua model, 0.81 dengan resampling method Random Under Sampling.\n",
    "\n",
    "*Adaptive Boosting Classifier itu sendiri adalah salah satu model ensemble learning similiar type. Cara kerja Adaptive Boosting Classifier adalah model akan train data yg diberikan dan model akan fokus belajar dari kesalahan yg dibuat. Kesalah tersebut akan dijadikan pembelajaran bagi model kita dalam pembuatan next model.*\n",
    "\n",
    "Kita akan memakai model ini untuk langkah kita selanjutnya, yaitu hypertuning."
   ]
  },
  {
   "cell_type": "markdown",
   "id": "bd83c7ef",
   "metadata": {},
   "source": [
    "# Hyperparameter Tuning"
   ]
  },
  {
   "cell_type": "code",
   "execution_count": 23,
   "id": "0f761f5e",
   "metadata": {
    "ExecuteTime": {
     "end_time": "2023-03-13T07:47:24.247228Z",
     "start_time": "2023-03-13T07:47:24.000834Z"
    }
   },
   "outputs": [
    {
     "name": "stdout",
     "output_type": "stream",
     "text": [
      "              precision    recall  f1-score   support\n",
      "\n",
      "           0       0.93      0.73      0.82       713\n",
      "           1       0.53      0.84      0.65       258\n",
      "\n",
      "    accuracy                           0.76       971\n",
      "   macro avg       0.73      0.79      0.73       971\n",
      "weighted avg       0.82      0.76      0.77       971\n",
      "\n"
     ]
    }
   ],
   "source": [
    "# Predict dengan best model : AdaBoostClassifier, tanpa tuning.\n",
    "best_model_pipeline=Pipeline([\n",
    "    ('preprocessing',transformer),\n",
    "    ('resampling',rus),\n",
    "    ('modeling',model_abc)\n",
    "])\n",
    "\n",
    "best_model_pipeline.fit(xtrain,ytrain)\n",
    "ypred=best_model_pipeline.predict(xtest)\n",
    "print(classification_report(ytest,ypred))"
   ]
  },
  {
   "cell_type": "code",
   "execution_count": 24,
   "id": "fc1ee041",
   "metadata": {
    "ExecuteTime": {
     "end_time": "2023-03-13T07:47:24.277752Z",
     "start_time": "2023-03-13T07:47:24.247228Z"
    }
   },
   "outputs": [
    {
     "data": {
      "text/html": [
       "<div>\n",
       "<style scoped>\n",
       "    .dataframe tbody tr th:only-of-type {\n",
       "        vertical-align: middle;\n",
       "    }\n",
       "\n",
       "    .dataframe tbody tr th {\n",
       "        vertical-align: top;\n",
       "    }\n",
       "\n",
       "    .dataframe thead th {\n",
       "        text-align: right;\n",
       "    }\n",
       "</style>\n",
       "<table border=\"1\" class=\"dataframe\">\n",
       "  <thead>\n",
       "    <tr style=\"text-align: right;\">\n",
       "      <th></th>\n",
       "      <th>feature</th>\n",
       "      <th>importance</th>\n",
       "    </tr>\n",
       "  </thead>\n",
       "  <tbody>\n",
       "    <tr>\n",
       "      <th>15</th>\n",
       "      <td>Scaling__MonthlyCharges</td>\n",
       "      <td>0.46</td>\n",
       "    </tr>\n",
       "    <tr>\n",
       "      <th>14</th>\n",
       "      <td>Scaling__tenure</td>\n",
       "      <td>0.24</td>\n",
       "    </tr>\n",
       "    <tr>\n",
       "      <th>12</th>\n",
       "      <td>Encoding__Contract_Two year</td>\n",
       "      <td>0.08</td>\n",
       "    </tr>\n",
       "    <tr>\n",
       "      <th>5</th>\n",
       "      <td>Encoding__InternetService_Fiber optic</td>\n",
       "      <td>0.06</td>\n",
       "    </tr>\n",
       "    <tr>\n",
       "      <th>11</th>\n",
       "      <td>Encoding__Contract_One year</td>\n",
       "      <td>0.06</td>\n",
       "    </tr>\n",
       "    <tr>\n",
       "      <th>0</th>\n",
       "      <td>Encoding__Dependents_Yes</td>\n",
       "      <td>0.02</td>\n",
       "    </tr>\n",
       "    <tr>\n",
       "      <th>2</th>\n",
       "      <td>Encoding__OnlineSecurity_Yes</td>\n",
       "      <td>0.02</td>\n",
       "    </tr>\n",
       "    <tr>\n",
       "      <th>4</th>\n",
       "      <td>Encoding__OnlineBackup_Yes</td>\n",
       "      <td>0.02</td>\n",
       "    </tr>\n",
       "    <tr>\n",
       "      <th>10</th>\n",
       "      <td>Encoding__TechSupport_Yes</td>\n",
       "      <td>0.02</td>\n",
       "    </tr>\n",
       "    <tr>\n",
       "      <th>13</th>\n",
       "      <td>Encoding__PaperlessBilling_Yes</td>\n",
       "      <td>0.02</td>\n",
       "    </tr>\n",
       "    <tr>\n",
       "      <th>1</th>\n",
       "      <td>Encoding__OnlineSecurity_No internet service</td>\n",
       "      <td>0.00</td>\n",
       "    </tr>\n",
       "    <tr>\n",
       "      <th>3</th>\n",
       "      <td>Encoding__OnlineBackup_No internet service</td>\n",
       "      <td>0.00</td>\n",
       "    </tr>\n",
       "    <tr>\n",
       "      <th>6</th>\n",
       "      <td>Encoding__InternetService_No</td>\n",
       "      <td>0.00</td>\n",
       "    </tr>\n",
       "    <tr>\n",
       "      <th>7</th>\n",
       "      <td>Encoding__DeviceProtection_No internet service</td>\n",
       "      <td>0.00</td>\n",
       "    </tr>\n",
       "    <tr>\n",
       "      <th>8</th>\n",
       "      <td>Encoding__DeviceProtection_Yes</td>\n",
       "      <td>0.00</td>\n",
       "    </tr>\n",
       "    <tr>\n",
       "      <th>9</th>\n",
       "      <td>Encoding__TechSupport_No internet service</td>\n",
       "      <td>0.00</td>\n",
       "    </tr>\n",
       "  </tbody>\n",
       "</table>\n",
       "</div>"
      ],
      "text/plain": [
       "                                           feature  importance\n",
       "15                         Scaling__MonthlyCharges        0.46\n",
       "14                                 Scaling__tenure        0.24\n",
       "12                     Encoding__Contract_Two year        0.08\n",
       "5            Encoding__InternetService_Fiber optic        0.06\n",
       "11                     Encoding__Contract_One year        0.06\n",
       "0                         Encoding__Dependents_Yes        0.02\n",
       "2                     Encoding__OnlineSecurity_Yes        0.02\n",
       "4                       Encoding__OnlineBackup_Yes        0.02\n",
       "10                       Encoding__TechSupport_Yes        0.02\n",
       "13                  Encoding__PaperlessBilling_Yes        0.02\n",
       "1     Encoding__OnlineSecurity_No internet service        0.00\n",
       "3       Encoding__OnlineBackup_No internet service        0.00\n",
       "6                     Encoding__InternetService_No        0.00\n",
       "7   Encoding__DeviceProtection_No internet service        0.00\n",
       "8                   Encoding__DeviceProtection_Yes        0.00\n",
       "9        Encoding__TechSupport_No internet service        0.00"
      ]
     },
     "execution_count": 24,
     "metadata": {},
     "output_type": "execute_result"
    }
   ],
   "source": [
    "# Feature Importances\n",
    "df_imp = pd.DataFrame({\n",
    "    'feature': best_model_pipeline['preprocessing'].get_feature_names_out(),\n",
    "    'importance': best_model_pipeline['modeling'].feature_importances_\n",
    "})\n",
    "\n",
    "df_imp.sort_values('importance', ascending=False)"
   ]
  },
  {
   "cell_type": "code",
   "execution_count": 25,
   "id": "bc817727",
   "metadata": {
    "ExecuteTime": {
     "end_time": "2023-03-13T07:47:54.184525Z",
     "start_time": "2023-03-13T07:47:24.280067Z"
    },
    "scrolled": false
   },
   "outputs": [
    {
     "name": "stdout",
     "output_type": "stream",
     "text": [
      "              precision    recall  f1-score   support\n",
      "\n",
      "           0       0.93      0.70      0.80       713\n",
      "           1       0.51      0.86      0.64       258\n",
      "\n",
      "    accuracy                           0.74       971\n",
      "   macro avg       0.72      0.78      0.72       971\n",
      "weighted avg       0.82      0.74      0.75       971\n",
      "\n"
     ]
    }
   ],
   "source": [
    "# Hyperparameter tuning\n",
    "best_model_pipeline=Pipeline([\n",
    "    ('preprocessing',transformer),\n",
    "    ('resampling',rus),\n",
    "    ('modeling',model_abc)\n",
    "])\n",
    "\n",
    "hyperparam={\n",
    "    'modeling__base_estimator':[LogisticRegression(),DecisionTreeClassifier()],\n",
    "    'modeling__n_estimators':range(1,16),\n",
    "    'modeling__learning_rate':np.arange(0.1,0.6,0.1),\n",
    "    'modeling__algorithm':['SAMME','SAMME.R'],\n",
    "    'modeling__random_state':[2023],\n",
    "}\n",
    "\n",
    "gridsearch=GridSearchCV(estimator=best_model_pipeline,param_grid=hyperparam,cv=5,scoring='recall',n_jobs=-1)\n",
    "gridsearch.fit(xtrain,ytrain)\n",
    "best=gridsearch.best_estimator_\n",
    "best.fit(xtrain,ytrain)\n",
    "ypred=best.predict(xtest)\n",
    "print(classification_report(ytest,ypred))"
   ]
  },
  {
   "cell_type": "code",
   "execution_count": 26,
   "id": "2a9635fb",
   "metadata": {
    "ExecuteTime": {
     "end_time": "2023-03-13T07:47:54.201213Z",
     "start_time": "2023-03-13T07:47:54.187516Z"
    }
   },
   "outputs": [
    {
     "data": {
      "text/plain": [
       "AdaBoostClassifier(algorithm='SAMME', base_estimator=LogisticRegression(),\n",
       "                   learning_rate=0.5, n_estimators=8, random_state=2023)"
      ]
     },
     "execution_count": 26,
     "metadata": {},
     "output_type": "execute_result"
    }
   ],
   "source": [
    "# Best parameters dari tuning\n",
    "gridsearch.best_estimator_['modeling']"
   ]
  },
  {
   "cell_type": "markdown",
   "id": "a674bc6d",
   "metadata": {},
   "source": [
    "Pertama, mari kita coba predict data test kita tanpa kita tuning terlebih dahulu untuk mengetahui nilai awal dari model kita. Kita masih menggunakan pipeline dimana proses nya adalah preprocessing terlebih dahulu, yaitu One Hot Encoder dan Robust Scaler, dilanjutkan dengan resampling kita, yaitu Random Under Sampler, dan yg terakhir modeling kita, yaitu Adaptive Boosting Classifier. Dapat dilihat bahwa model kita mendapatkan Recall Score nya sebesar 0.83. Hal ini merupakan hal yang baik karena score yang didapat kurang lebih sesuai dengan hasil Cross Validation Score kita.\n",
    "\n",
    "Sekarang mari kita tuning untuk mengetahui apakah kita dapat meningkatkan score tersebut. Untuk parameter dari Adaptive Boosting Classifier adalah base_estimator, n_estimators, learning_rate, algorithm, dan random_state. Untuk base_estimator, mari kita tambahkan Logistic Regression sebagai base_estimator kita (default adalah Decision Tree Classifier karena ini adalah tree based model). n_estimators disini adalah kita menetukan berapa kali model akan belajar dari model yang sebelumnya, mari kita setting menjadi 1 sampai 15 kali. Untuk learning_rate, ini adalah indikasi seberapa cepat model akan belajar dari kesalahan, untuk value nya kita set dari 0.1 sampai dengan 0.6. Untuk algorithm hanya ada 2 yakni SAMME dan SAMME.R. Untuk random_state bisa diberikan angka berapapu itu.\n",
    "\n",
    "Untuk mengimplementasikan hypterparameter tuning tersebut, kita gunakan Grid Search CV, dimana pada Grid Search CV, model akan menjalankan semua variasi parameter yg kita tentukan dan mencatat nilai yg paling baik dari seluruh variasi tersebut. Dapat dilihat dari hasil tuning kita bahwa model kita mengalami peningkatan score dari 0.84 menjadi 0.86. Parameter yg digunakan adalah Logistic Regression sebagai base model, algorithm nya adalah 'SAMME', learning_rate nya adalah 0.5, dan n_estimators nya adalah 8."
   ]
  },
  {
   "cell_type": "markdown",
   "id": "5f04581e",
   "metadata": {},
   "source": [
    "# CONCLUSION\n",
    "1. Metric utama yang akan kita gunakan adalah recall, karena kita ingin meminimalisir konsekuensi pada Type 2 error.\n",
    "2. Berdasarkan Cross Validation, model terbaik yang dapat digunakan adalah Adaptive Boosting Classifier.\n",
    "3. Berdasarkan pemodelan Adaptive Boosting Classifier yang menggunakan Decision Tree Classifier, fitur/kolom Monthly Charges dan Tenure adalah yang paling penting dan berpengaruh terhadap target (Churn).\n",
    "4. Berdasarkan hyperparameter tuning, parameter terbaik yang dapat digunakan untuk benchmark model Adaptive Boosting Classifier adalah :\n",
    "    * base_estimator:LogisticRegression  \n",
    "    * n_estimators:8  \n",
    "    * learning_rate:0.5  \n",
    "    * algorithm:'SAMME'\n",
    "5. Bila seandainya rata2 biaya seorang Customer memakai jasa perusahaan adalah 50 USD, dan andaikan ada 100 orang Customer, maka hitungannya kurang lebih akan seperti ini:\n",
    "    * Tanpa Model (semua Customer dianggap tidak akan Churn):\n",
    "        - Total Income => 100 x 50 USD = 5000 USD\n",
    "        - Quota for Loss of Income = 0\n",
    "        - Total Customer yang Churn => 25 orang\n",
    "        - Total Customer yang tidak Churn => 75 orang\n",
    "        - Total Loss of Income => 25 x 50 USD = 1250 USD (karena 25 orang Churn yg menyebabkan ada nya)\n",
    "        - Total Loss => Quota - Loss of Income => 0 - 1250 USD = **-1250 USD**\n",
    "    * Dengan Model (terdapat prediksi untuk Customer yg akan Churn sehinga ada quota untuk Loss of Income):\n",
    "        - Total Income => 86 x 50 USD = 4300 USD\n",
    "        - Quota for Loss of Income = 14 x 50 USD = 700 USD\n",
    "        - Total Customer yang Churn => 15 orang\n",
    "        - Total Customer yang tidak Churn => 85 orang\n",
    "        - Total Loss of Income => 14 x 50 USD = 700 USD\n",
    "        - Total Loss => Quota - Loss of Income => 700 - 700 USD = **0 USD**\n",
    "\n",
    "# RECOMMENDATION\n",
    "1. Memberikan diskon pada MonthlyCharges bagi customer jika memungkinkan, atau memberikan imbalan atau reward yang tidak merugikan perusahaan, agar customer tidak merasa bahwa harganya terlalu mahal.\n",
    "2. Membuat Customer Loyalty Program yang mendorong customer agar tetap bertahan dan memiliki waktu tenure yang panjang. Bentuk program bisa berupa pemberian reward yang besarannya disesuaikan dengan masa tenure. Semakin panjang tenure, semakin besar reward yang bisa didapat, sehingga mendorong pelanggan untuk memiliki tenure yang lebih panjang.\n",
    "3. Menambahkan fitur-fitur atau kolom baru yang berisi tingkat kepuasan pelanggan untuk masing-masing layanan, sehingga dapat diketahui lebih lanjut apakah churn disebabkan oleh kualitas layanan yang buruk atau tidak.\n",
    "4. Karena data kita merupakan data yang imbalance, kita bisa merekomendasikan penambahan data khususnya untuk kelas minoritas (Churn) agar dapat membantu meningkatkan performa model."
   ]
  }
 ],
 "metadata": {
  "kernelspec": {
   "display_name": "Python 3 (ipykernel)",
   "language": "python",
   "name": "python3"
  },
  "language_info": {
   "codemirror_mode": {
    "name": "ipython",
    "version": 3
   },
   "file_extension": ".py",
   "mimetype": "text/x-python",
   "name": "python",
   "nbconvert_exporter": "python",
   "pygments_lexer": "ipython3",
   "version": "3.9.13"
  },
  "varInspector": {
   "cols": {
    "lenName": 16,
    "lenType": 16,
    "lenVar": 40
   },
   "kernels_config": {
    "python": {
     "delete_cmd_postfix": "",
     "delete_cmd_prefix": "del ",
     "library": "var_list.py",
     "varRefreshCmd": "print(var_dic_list())"
    },
    "r": {
     "delete_cmd_postfix": ") ",
     "delete_cmd_prefix": "rm(",
     "library": "var_list.r",
     "varRefreshCmd": "cat(var_dic_list()) "
    }
   },
   "types_to_exclude": [
    "module",
    "function",
    "builtin_function_or_method",
    "instance",
    "_Feature"
   ],
   "window_display": false
  }
 },
 "nbformat": 4,
 "nbformat_minor": 5
}
